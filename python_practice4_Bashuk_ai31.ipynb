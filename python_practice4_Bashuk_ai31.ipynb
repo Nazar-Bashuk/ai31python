{
  "cells": [
    {
      "cell_type": "markdown",
      "metadata": {
        "id": "-xM96SkgLNxS"
      },
      "source": []
    },
    {
      "cell_type": "markdown",
      "metadata": {
        "id": "RFkkDC1jikAI"
      },
      "source": [
        "0. (5б) Назвіть 4 частини, з яких складається визначення функції."
      ]
    },
    {
      "cell_type": "code",
      "execution_count": 1,
      "metadata": {
        "id": "tV4xxWnFisqZ"
      },
      "outputs": [
        {
          "data": {
            "text/plain": [
              "\"\\n1. Заголовок (def)\\n2. Ім'я функції\\n3. Параметри (аргументи)\\n4. Тіло функції\\n\""
            ]
          },
          "execution_count": 1,
          "metadata": {},
          "output_type": "execute_result"
        }
      ],
      "source": [
        "\n",
        "\"\"\"\n",
        "1. Заголовок (def)\n",
        "2. Ім'я функції\n",
        "3. Параметри (аргументи)\n",
        "4. Тіло функції\n",
        "\"\"\"\n"
      ]
    },
    {
      "cell_type": "markdown",
      "metadata": {
        "id": "mg6qjOB2LbVs"
      },
      "source": [
        "1. (4б) Визначте функцію, що приймає 2 аргументи та повертає результат ділення 1го аргумента на інший."
      ]
    },
    {
      "cell_type": "code",
      "execution_count": 2,
      "metadata": {
        "id": "lUbA_FWjKxQD"
      },
      "outputs": [],
      "source": [
        "\n",
        "def divide_numbers(a, b):\n",
        "    return a / b\n"
      ]
    },
    {
      "cell_type": "markdown",
      "metadata": {
        "id": "wMAYj2KXLpiJ"
      },
      "source": [
        "2. (2б) Викличте вище визначену функцію, де другий аргумент дорівнює 0."
      ]
    },
    {
      "cell_type": "code",
      "execution_count": 5,
      "metadata": {
        "id": "103jJj32Lo4Y"
      },
      "outputs": [
        {
          "ename": "ZeroDivisionError",
          "evalue": "division by zero",
          "output_type": "error",
          "traceback": [
            "\u001b[1;31m---------------------------------------------------------------------------\u001b[0m",
            "\u001b[1;31mZeroDivisionError\u001b[0m                         Traceback (most recent call last)",
            "Cell \u001b[1;32mIn[5], line 1\u001b[0m\n\u001b[1;32m----> 1\u001b[0m result \u001b[38;5;241m=\u001b[39m result \u001b[38;5;241m=\u001b[39m \u001b[43mdivide_numbers\u001b[49m\u001b[43m(\u001b[49m\u001b[38;5;241;43m10\u001b[39;49m\u001b[43m,\u001b[49m\u001b[43m \u001b[49m\u001b[38;5;241;43m0\u001b[39;49m\u001b[43m)\u001b[49m\n\u001b[0;32m      2\u001b[0m \u001b[38;5;28mprint\u001b[39m(result) (\u001b[38;5;241m10\u001b[39m, \u001b[38;5;241m0\u001b[39m)\n",
            "Cell \u001b[1;32mIn[2], line 2\u001b[0m, in \u001b[0;36mdivide_numbers\u001b[1;34m(a, b)\u001b[0m\n\u001b[0;32m      1\u001b[0m \u001b[38;5;28;01mdef\u001b[39;00m \u001b[38;5;21mdivide_numbers\u001b[39m(a, b):\n\u001b[1;32m----> 2\u001b[0m     \u001b[38;5;28;01mreturn\u001b[39;00m \u001b[43ma\u001b[49m\u001b[43m \u001b[49m\u001b[38;5;241;43m/\u001b[39;49m\u001b[43m \u001b[49m\u001b[43mb\u001b[49m\n",
            "\u001b[1;31mZeroDivisionError\u001b[0m: division by zero"
          ]
        }
      ],
      "source": [
        "result = result = divide_numbers(10, 0)\n",
        "print(result) (10, 0)"
      ]
    },
    {
      "cell_type": "markdown",
      "metadata": {
        "id": "eT-pwEwPMD3T"
      },
      "source": [
        "3. (6б) Перевизначте функцію так, щоби у випадку ділення на 0 функція повертала None, а в решті випадків - результат розрахунків."
      ]
    },
    {
      "cell_type": "code",
      "execution_count": 6,
      "metadata": {
        "id": "1h6Jz7CKMTk_"
      },
      "outputs": [],
      "source": [
        "def divide_numbers_safe(a, b):\n",
        "    if b == 0:\n",
        "        return None\n",
        "    return a / b\n"
      ]
    },
    {
      "cell_type": "markdown",
      "metadata": {
        "id": "iuTiofyDMVMG"
      },
      "source": [
        "4. (5б) Напишіть документацію (docstring) у форматі Google до функції, що має обчислювати суму двох чисел."
      ]
    },
    {
      "cell_type": "code",
      "execution_count": 7,
      "metadata": {
        "id": "a9E6iU_iNyYQ"
      },
      "outputs": [],
      "source": [
        "def calculate_sum(a, b):\n",
        "    \"\"\"\n",
        "    Calculates the sum of two numbers.\n",
        "\n",
        "    Parameters:\n",
        "    a (float): The first number.\n",
        "    b (float): The second number.\n",
        "\n",
        "    Returns:\n",
        "    float: The sum of a and b.\n",
        "    \"\"\"\n",
        "    return a + b\n"
      ]
    },
    {
      "cell_type": "markdown",
      "metadata": {
        "id": "ZvrsUQZFN5VT"
      },
      "source": [
        "5. (4б) Реалізуйте цю функцію (із додаванням docstring у визначення функції)."
      ]
    },
    {
      "cell_type": "code",
      "execution_count": 8,
      "metadata": {
        "id": "K5h3KTVuOBP3"
      },
      "outputs": [],
      "source": [
        "\n",
        "def calculate_sum(a, b):\n",
        "    \"\"\"\n",
        "    Calculates the sum of two numbers.\n",
        "\n",
        "    Parameters:\n",
        "    a (float): The first number.\n",
        "    b (float): The second number.\n",
        "\n",
        "    Returns:\n",
        "    float: The sum of a and b.\n",
        "    \"\"\"\n",
        "    return a + b\n"
      ]
    },
    {
      "cell_type": "markdown",
      "metadata": {
        "id": "IILi2wfYOwYb"
      },
      "source": [
        "6. (6б) Визначте функцію, що віднімає одне число від іншого (підказка: це буде 2 аргументи функції). При чому, якщо не визначити, скільки саме має бути віднято від числа, за замовчуванням має відніматися 1. Викличте функцію, передаючи тільки один аргумент."
      ]
    },
    {
      "cell_type": "code",
      "execution_count": 9,
      "metadata": {
        "id": "hybHnk8ROvxQ"
      },
      "outputs": [],
      "source": [
        "\n",
        "def subtract_numbers(a, b=1):\n",
        "    return a - b\n"
      ]
    },
    {
      "cell_type": "markdown",
      "metadata": {
        "id": "UK6o8zcuR7cH"
      },
      "source": [
        "7. (10б) Визначте функцію, яка приймає iterable (ітерабельний обʼєкт, напр. список), що складається з 7ми рядкових значень - назв погодних умов (напр. \"sunny\") за кожен день у тижні. Повертає функція словник, де ключами є рядки з погодними умовами, а значеннями - кількість разів, скільки дана погода була протягом тижня (напр. {'sunny': 1, ...})."
      ]
    },
    {
      "cell_type": "code",
      "execution_count": 10,
      "metadata": {
        "id": "3gkR5gl0SyYO"
      },
      "outputs": [],
      "source": [
        "\n",
        "def count_weather_conditions(weekly_weather):\n",
        "    weather_count = {}\n",
        "    for condition in weekly_weather:\n",
        "        weather_count[condition] = weather_count.get(condition, 0) + 1\n",
        "    return weather_count\n"
      ]
    },
    {
      "cell_type": "markdown",
      "metadata": {
        "id": "x4zhem_2Syf7"
      },
      "source": [
        "8. (3б) Викличте цю функцію тричі з різними аргументами та виведіть результати на екран."
      ]
    },
    {
      "cell_type": "code",
      "execution_count": 11,
      "metadata": {
        "id": "B0agh7urS0Fc"
      },
      "outputs": [
        {
          "name": "stdout",
          "output_type": "stream",
          "text": [
            "{'sunny': 3, 'rainy': 2, 'cloudy': 1, 'snowy': 1}\n",
            "{'cloudy': 3, 'rainy': 1, 'snowy': 2, 'sunny': 1}\n",
            "{'rainy': 3, 'sunny': 2, 'cloudy': 2}\n"
          ]
        }
      ],
      "source": [
        "\n",
        "weather_conditions1 = ['sunny', 'rainy', 'cloudy', 'sunny', 'snowy', 'rainy', 'sunny']\n",
        "weather_conditions2 = ['cloudy', 'cloudy', 'rainy', 'snowy', 'snowy', 'sunny', 'cloudy']\n",
        "weather_conditions3 = ['rainy', 'rainy', 'rainy', 'sunny', 'sunny', 'cloudy', 'cloudy']\n",
        "\n",
        "print(count_weather_conditions(weather_conditions1))\n",
        "print(count_weather_conditions(weather_conditions2))\n",
        "print(count_weather_conditions(weather_conditions3))\n"
      ]
    },
    {
      "cell_type": "markdown",
      "metadata": {
        "id": "bLgviTMlUlNG"
      },
      "source": []
    },
    {
      "cell_type": "code",
      "execution_count": 16,
      "metadata": {
        "id": "LAHz6MmdcWfP"
      },
      "outputs": [
        {
          "name": "stdout",
          "output_type": "stream",
          "text": [
            "Будь ласка, введіть коректне ціле число.\n",
            "Число 10 не знайдено в списку.\n"
          ]
        }
      ],
      "source": [
        "def binary_search(arr, target):\n",
        "    # Implementation of binary search\n",
        "    low, high = 0, len(arr) - 1\n",
        "    while low <= high:\n",
        "        mid = (low + high) // 2\n",
        "        if arr[mid] == target:\n",
        "            return True\n",
        "        elif arr[mid] < target:\n",
        "            low = mid + 1\n",
        "        else:\n",
        "            high = mid - 1\n",
        "    return False\n",
        "\n",
        "def get_user_input():\n",
        "    while True:\n",
        "        try:\n",
        "            user_input = int(input(\"Введіть число для пошуку: \"))\n",
        "            return user_input\n",
        "        except ValueError:\n",
        "            print(\"Будь ласка, введіть коректне ціле число.\")\n",
        "\n",
        "# Вхідні дані: впорядкований список цілих чисел\n",
        "sorted_numbers = [1, 2, 3, 5, 8, 13, 21, 34, 55, 89]\n",
        "\n",
        "# Введення числа для пошуку\n",
        "user_input = get_user_input()\n",
        "\n",
        "# Виклик функції бінарного пошуку\n",
        "found = binary_search(sorted_numbers, user_input)\n",
        "\n",
        "# Виведення результату\n",
        "if found:\n",
        "    print(f\"Число {user_input} знайдено в списку.\")\n",
        "else:\n",
        "    print(f\"Число {user_input} не знайдено в списку.\")\n"
      ]
    },
    {
      "cell_type": "markdown",
      "metadata": {
        "id": "wCKOEiKhLSld"
      },
      "source": [
        "# II. Lambda functions."
      ]
    },
    {
      "cell_type": "markdown",
      "metadata": {
        "id": "c4EBfW6QcXF7"
      },
      "source": [
        "10. (6б) Визначте анонімну функцію, що виконувала б завдання з задачі №1."
      ]
    },
    {
      "cell_type": "code",
      "execution_count": 17,
      "metadata": {
        "id": "sGgO6KjuhUj5"
      },
      "outputs": [],
      "source": [
        "\n",
        "divide_lambda = lambda a, b: a / b if b != 0 else None\n"
      ]
    },
    {
      "cell_type": "markdown",
      "metadata": {
        "id": "fWa0efmRhepO"
      },
      "source": [
        "11. (5б) В яких випадках варто використовувати лямбда-функції?"
      ]
    },
    {
      "cell_type": "markdown",
      "metadata": {
        "id": "R68BViaPhad_"
      },
      "source": [
        "\n",
        "\"\"\"\n",
        "Лямбда-функції варто використовувати, коли потрібна невелика, одноразова функція,\n",
        "і не хочеться визначати її повну структуру за допомогою def.\n",
        "Також їх можна використовувати в функціях вищого порядку, таких як map, filter, або при сортуванні.\n",
        "\"\"\"\n"
      ]
    },
    {
      "cell_type": "markdown",
      "metadata": {
        "id": "0CL6ikIkhU7j"
      },
      "source": [
        "12. (9б) Визначте список з рядками. Після цього визначте анонімну функцію для отримання першого символу у верхньому регістрі для кожного рядка списку.\n",
        "*Підказка*: використовуйте анонімну функцію в якості агрумента до вбудованої ф-ції, яка створена для застосування функцій над iterable обʼєктами.\n",
        "Результат виведіть на екран у вигляді кортежу."
      ]
    },
    {
      "cell_type": "code",
      "execution_count": 18,
      "metadata": {
        "id": "I1Lw2SSNhhJw"
      },
      "outputs": [
        {
          "name": "stdout",
          "output_type": "stream",
          "text": [
            "('A', 'B', 'C', 'D')\n"
          ]
        }
      ],
      "source": [
        "\n",
        "# у верхньому регістрі для кожного рядка списку.\n",
        "# Результат виведіть на екран у вигляді кортежу.\n",
        "string_list = ['apple', 'banana', 'cherry', 'date']\n",
        "result_tuple = tuple(map(lambda s: s[0].upper(), string_list))\n",
        "print(result_tuple)\n"
      ]
    },
    {
      "cell_type": "markdown",
      "metadata": {
        "id": "rgGmGt67m5yi"
      },
      "source": [
        "# III. Decorators."
      ]
    },
    {
      "cell_type": "markdown",
      "metadata": {
        "id": "DZm1W0Qqncu8"
      },
      "source": [
        "13. (15б) Визначте декоратор, який би виводив у консоль повідомлення про початок роботи і назву функції, а після відпрацювання функції - повідомлення про закінчення роботи і назву функції, що задекорована."
      ]
    },
    {
      "cell_type": "code",
      "execution_count": 22,
      "metadata": {
        "id": "5s3X3F6soer0"
      },
      "outputs": [],
      "source": [
        "\n",
        "# а після відпрацювання функції - повідомлення про закінчення роботи і назву функції, що задекорована.\n",
        "\n",
        "def function_logger(func):\n",
        "    def wrapper(*args, **kwargs):\n",
        "        print(f\"Start of {func.__name__} function.\")\n",
        "        result = func(*args, **kwargs)\n",
        "        print(f\"End of {func.__name__} function.\")\n",
        "        return result\n",
        "    return wrapper\n"
      ]
    },
    {
      "cell_type": "markdown",
      "metadata": {
        "id": "AlGt40oVofHB"
      },
      "source": [
        "14. (7б) Задекоруйте функції з завдання 3, 5 та 6 декоратором із завдання 13. *Примітка*: продемонструйте 2 способи, як можна задекорувати функції (**УВАГА**: не декоруйте функції двічі!)."
      ]
    },
    {
      "cell_type": "code",
      "execution_count": 21,
      "metadata": {
        "id": "hkxhoRVqo1AW"
      },
      "outputs": [],
      "source": [
        "\n",
        "# Примітка: продемонструйте 2 способи, як можна задекорувати функції (УВАГА: не декоруйте функції двічі!).\n",
        "\n",
        "@function_logger\n",
        "def divide_numbers_safe(a, b):\n",
        "    if b == 0:\n",
        "        return None\n",
        "    return a / b\n",
        "\n",
        "@function_logger\n",
        "def calculate_sum(a, b):\n",
        "    \"\"\"\n",
        "    Calculates the sum of two numbers.\n",
        "\n",
        "    Parameters:\n",
        "    a (float): The first number.\n",
        "    b (float): The second number.\n",
        "\n",
        "    Returns:\n",
        "    float: The sum of a and b.\n",
        "    \"\"\"\n",
        "    return a + b\n",
        "\n",
        "def subtract_numbers(a, b=1):\n",
        "    return a - b\n",
        "\n",
        "decorated_subtract = function_logger(subtract_numbers)\n"
      ]
    },
    {
      "cell_type": "markdown",
      "metadata": {
        "id": "6QkS0Kxzo4UR"
      },
      "source": [
        "15. (2б) Викличте одну з задекорованих функцій і виведіть її результат на екран."
      ]
    },
    {
      "cell_type": "code",
      "execution_count": 20,
      "metadata": {
        "id": "BCCCPai6o-y5"
      },
      "outputs": [
        {
          "name": "stdout",
          "output_type": "stream",
          "text": [
            "5.0\n"
          ]
        }
      ],
      "source": [
        "\n",
        "result = divide_numbers_safe(10, 2)\n",
        "print(result)\n"
      ]
    },
    {
      "cell_type": "markdown",
      "metadata": {
        "id": "CSN0Q5pMQVNQ"
      },
      "source": [
        "# Вітаю! Ви велика(ий) молодець, що впоралась(вся). Похваліть себе та побалуйте чимось приємним. Я Вами пишаюся."
      ]
    }
  ],
  "metadata": {
    "colab": {
      "provenance": []
    },
    "kernelspec": {
      "display_name": "Python 3",
      "name": "python3"
    },
    "language_info": {
      "codemirror_mode": {
        "name": "ipython",
        "version": 3
      },
      "file_extension": ".py",
      "mimetype": "text/x-python",
      "name": "python",
      "nbconvert_exporter": "python",
      "pygments_lexer": "ipython3",
      "version": "3.11.7"
    }
  },
  "nbformat": 4,
  "nbformat_minor": 0
}
