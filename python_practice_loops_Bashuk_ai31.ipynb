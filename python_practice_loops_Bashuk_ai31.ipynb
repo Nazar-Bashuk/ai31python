{
  "cells": [
    {
      "cell_type": "code",
      "execution_count": null,
      "metadata": {},
      "outputs": [],
      "source": []
    },
    {
      "cell_type": "markdown",
      "metadata": {
        "id": "bhnw_OBiped2"
      },
      "source": [
        "# I. range."
      ]
    },
    {
      "cell_type": "markdown",
      "metadata": {
        "id": "cS4sWGwctkLH"
      },
      "source": [
        "1. (4 бали) Створіть обʼєкт типу range, який буде містити послідовність цілих чисел від 0 до 9 включно. Виведіть його довжину (кількість значень)."
      ]
    },
    {
      "cell_type": "code",
      "execution_count": 1,
      "metadata": {
        "colab": {
          "base_uri": "https://localhost:8080/"
        },
        "id": "1XFhN5gVte4X",
        "outputId": "0469bb47-e932-48ce-ead3-c4b0536266d8"
      },
      "outputs": [
        {
          "name": "stdout",
          "output_type": "stream",
          "text": [
            "10\n"
          ]
        }
      ],
      "source": [
        "my_range = range(10)\n",
        "\n",
        "\n",
        "print(len(my_range))\n"
      ]
    },
    {
      "cell_type": "markdown",
      "metadata": {
        "id": "VZ0Dh0m-t9tM"
      },
      "source": [
        "2. (5 балів) Створіть обʼєкт типу range, який буде містити послідовність цілих чисел (16, 13, 10, 7, 4, 1, -2, -5)"
      ]
    },
    {
      "cell_type": "code",
      "execution_count": 4,
      "metadata": {
        "colab": {
          "base_uri": "https://localhost:8080/"
        },
        "id": "YavF1Agaoe8J",
        "outputId": "30e8cdbe-9e59-4deb-e5d0-413fe3c5b071"
      },
      "outputs": [
        {
          "name": "stdout",
          "output_type": "stream",
          "text": [
            "[16, 13, 10, 7, 4, 1, -2, -5]\n"
          ]
        }
      ],
      "source": [
        "my_range = range(16, -6, -3)\n",
        "\n",
        "\n",
        "print(list(my_range))\n"
      ]
    },
    {
      "cell_type": "markdown",
      "metadata": {
        "id": "nBmE3_nMuavj"
      },
      "source": [
        "3. (4 бали) Створіть змінну зі значенням цілого типу. Перевірте, чи вона належить проміжку від 49 до 100 включно. Як ви гадаєте, для чого використовуються range?"
      ]
    },
    {
      "cell_type": "code",
      "execution_count": 5,
      "metadata": {
        "colab": {
          "base_uri": "https://localhost:8080/"
        },
        "id": "5KmgBmOIuku4",
        "outputId": "9228a538-df7b-4706-c425-a59e33de3b5a"
      },
      "outputs": [
        {
          "name": "stdout",
          "output_type": "stream",
          "text": [
            "Змінна належить проміжку від 49 до 100 включно\n"
          ]
        }
      ],
      "source": [
        "\n",
        "my_number = 75\n",
        "if 49 <= my_number <= 100:\n",
        "    print(\"Змінна належить проміжку від 49 до 100 включно\")\n",
        "else:\n",
        "    print(\"Змінна НЕ належить проміжку від 49 до 100 включно\")\n"
      ]
    },
    {
      "cell_type": "markdown",
      "metadata": {
        "id": "hZHtKQUJxDxj"
      },
      "source": [
        "**місце для відповіді*"
      ]
    },
    {
      "cell_type": "markdown",
      "metadata": {
        "id": "56FjMkPatTD6"
      },
      "source": [
        "# II. Comprehensions."
      ]
    },
    {
      "cell_type": "markdown",
      "metadata": {
        "id": "AZyfyNfYvOyq"
      },
      "source": [
        "4. (6 балів) Створіть множину (set), використовуючи range та set comprehension."
      ]
    },
    {
      "cell_type": "code",
      "execution_count": 7,
      "metadata": {
        "colab": {
          "base_uri": "https://localhost:8080/"
        },
        "id": "DE8oNYSUvNfR",
        "outputId": "7f3332a0-4a64-4c56-be9a-4e56ad6370d4"
      },
      "outputs": [
        {
          "name": "stdout",
          "output_type": "stream",
          "text": [
            "{1, 2, 3, 4, 5, 6, 7, 8, 9, 10}\n"
          ]
        }
      ],
      "source": [
        "my_set = {x for x in range(1, 11)}\n",
        "print(my_set)\n"
      ]
    },
    {
      "cell_type": "markdown",
      "metadata": {
        "id": "5IsyYnolvWxJ"
      },
      "source": [
        "5. (8 балів) Створіть словник, використовуючи dict comprehension, що містить if else. Коли слід використовувати comprehensions, а коли їх слід уникати?"
      ]
    },
    {
      "cell_type": "code",
      "execution_count": null,
      "metadata": {
        "id": "PTLiarj4vWVu"
      },
      "outputs": [],
      "source": [
        "numbers = [1, 2, 3, 4, 5, 6, 7, 8, 9, 10]\n",
        "\n",
        "# Створення словника, де ключ - число, значення - 'even' або 'odd' залежно від парності числа\n",
        "number_types = {num: 'even' if num % 2 == 0 else 'odd' for num in numbers}\n",
        "\n",
        "print(number_types)"
      ]
    },
    {
      "cell_type": "markdown",
      "metadata": {
        "id": "PcwgYcjdxYPA"
      },
      "source": [
        "**місце для відповіді*"
      ]
    },
    {
      "cell_type": "markdown",
      "metadata": {
        "id": "xPVEDwk6vfhU"
      },
      "source": [
        "6. (7 балів) Створіть список з рядками та запишіть його у змінну. Створіть ще один список на основі попереднього, де кожен рядок буде містити тільки три перших заглавних символи. Наприклад: ['hello', 'i', 'dont', 'care'] -> ['HEL', 'I', 'DON', 'CAR']"
      ]
    },
    {
      "cell_type": "code",
      "execution_count": 8,
      "metadata": {
        "colab": {
          "base_uri": "https://localhost:8080/"
        },
        "id": "l1FAM69Owi7q",
        "outputId": "44c3cb7a-4564-4403-a101-66b565543a28"
      },
      "outputs": [
        {
          "name": "stdout",
          "output_type": "stream",
          "text": [
            "['HEL', 'I', 'DON', 'CAR']\n"
          ]
        }
      ],
      "source": [
        "\n",
        "original_list = ['hello', 'i', 'dont', 'care']\n",
        "\n",
        "\n",
        "new_list = [word[:3].upper() for word in original_list]\n",
        "\n",
        "\n",
        "print(new_list)"
      ]
    },
    {
      "cell_type": "markdown",
      "metadata": {
        "id": "9zEB8ekEtTnQ"
      },
      "source": [
        "# III. Цикли."
      ]
    },
    {
      "cell_type": "markdown",
      "metadata": {
        "id": "AlEfFe4Fwv8n"
      },
      "source": [
        "7. (6 балів) Продемонструйте роботу циклу while. Чи можна використовувати в умові циклу булеві значення? Чому?"
      ]
    },
    {
      "cell_type": "code",
      "execution_count": 9,
      "metadata": {
        "colab": {
          "base_uri": "https://localhost:8080/"
        },
        "id": "kiDSbqo0wwMZ",
        "outputId": "28a2dd4e-56bd-4137-ed48-2d3a89fee0bf"
      },
      "outputs": [
        {
          "name": "stdout",
          "output_type": "stream",
          "text": [
            "0\n",
            "1\n",
            "2\n",
            "3\n",
            "4\n"
          ]
        }
      ],
      "source": [
        "# Приклад циклу while\n",
        "x = 0\n",
        "while x < 5:\n",
        "    print(x)\n",
        "    x += 1"
      ]
    },
    {
      "cell_type": "markdown",
      "metadata": {
        "id": "J9TkD5_Cx3I1"
      },
      "source": [
        "8. (8 балів) Напишіть програму, яка виведе на екран непарні числа в діапазоні від 0 до 20 включно."
      ]
    },
    {
      "cell_type": "code",
      "execution_count": 10,
      "metadata": {
        "colab": {
          "base_uri": "https://localhost:8080/"
        },
        "id": "5A1d-qvVx34B",
        "outputId": "e41901f3-3633-4432-f46d-21eefd10a260"
      },
      "outputs": [
        {
          "name": "stdout",
          "output_type": "stream",
          "text": [
            "1\n",
            "3\n",
            "5\n",
            "7\n",
            "9\n",
            "11\n",
            "13\n",
            "15\n",
            "17\n",
            "19\n"
          ]
        }
      ],
      "source": [
        "for number in range(21):\n",
        "    if number % 2 != 0:\n",
        "        print(number)"
      ]
    },
    {
      "cell_type": "markdown",
      "metadata": {
        "id": "xN6Kfmqex4NU"
      },
      "source": [
        "9. (7 балів) Створіть список з елементами булевого типу або None. Використовуючи цикли, отримайте в результаті список з кортежами, де перший елемент кортежу - індекс(ціле число), а другий елемент - відповідне значення з першого списку.\n",
        "\n",
        "Наприклад, [True, True, None, False] -> [(0, True), (1, True), (2, None), (3, False)]"
      ]
    },
    {
      "cell_type": "code",
      "execution_count": 11,
      "metadata": {
        "colab": {
          "base_uri": "https://localhost:8080/"
        },
        "id": "YhVlQnNIx405",
        "outputId": "9e66caad-b926-418a-a2c2-480a7e34f56e"
      },
      "outputs": [
        {
          "name": "stdout",
          "output_type": "stream",
          "text": [
            "[(0, True), (1, True), (2, None), (3, False)]\n"
          ]
        }
      ],
      "source": [
        "original_list = [True, True, None, False]\n",
        "result_list = []\n",
        "for index, value in enumerate(original_list):\n",
        "    result_list.append((index, value))\n",
        "print(result_list)"
      ]
    },
    {
      "cell_type": "markdown",
      "metadata": {
        "id": "cJNlWxHLx5mW"
      },
      "source": [
        "10. (10 балів) Створіть словник, де ключі - назви книжок, а значення - їхня кількість у наявності в Вашій міні-бібліотеці. Бібліотека має містити щонайменше 6 книжок (6 пар значень у словнику) і щонайбільше 10 (пар значень). Використовуючи цикли, оновіть словник (не створюйте новий) так, щоби кількість книг у наявності збільшилося на 5 кожної книги. Наприклад,\n",
        "{'It': 3, 'Fault stars': 10, 'Bible': 17, 'Psychological romance': 4, 'Harry Potter': 13} -> {'It': 8, 'Fault stars': 15, 'Bible': 22, 'Psychological romance': 9, 'Harry Potter': 18}"
      ]
    },
    {
      "cell_type": "code",
      "execution_count": 12,
      "metadata": {
        "colab": {
          "base_uri": "https://localhost:8080/"
        },
        "id": "pI7I71ao0qh_",
        "outputId": "9cd359f8-7a40-4573-c72a-888dae3d6fc6"
      },
      "outputs": [
        {
          "name": "stdout",
          "output_type": "stream",
          "text": [
            "{'It': 8, 'Fault stars': 15, 'Bible': 22, 'Psychological romance': 9, 'Harry Potter': 18}\n"
          ]
        }
      ],
      "source": [
        "\n",
        "books = {\n",
        "    'It': 3,\n",
        "    'Fault stars': 10,\n",
        "    'Bible': 17,\n",
        "    'Psychological romance': 4,\n",
        "    'Harry Potter': 13\n",
        "}\n",
        "\n",
        "\n",
        "for book in books:\n",
        "    books[book] += 5\n",
        "\n",
        "print(books)"
      ]
    },
    {
      "cell_type": "markdown",
      "metadata": {
        "id": "qdZA6qi82GBa"
      },
      "source": [
        "11. (15 балів) Визначте цілочислену змінну n, що належить проміжку від 4 до 10 включно. Використовуючи цикли, виведіть в консоль наступний патерн.\n",
        "\n",
        "#\n",
        "##\n",
        "###\n",
        "####\n",
        "\n",
        "... #*n\n"
      ]
    },
    {
      "cell_type": "code",
      "execution_count": 13,
      "metadata": {
        "colab": {
          "base_uri": "https://localhost:8080/"
        },
        "id": "aaHuUQHfx6YO",
        "outputId": "3872fafd-82fa-4cf4-eb3d-b14d959e92b7"
      },
      "outputs": [
        {
          "name": "stdout",
          "output_type": "stream",
          "text": [
            "#\n",
            "##\n",
            "###\n",
            "####\n",
            "#####\n",
            "######\n",
            "#######\n"
          ]
        }
      ],
      "source": [
        "n = 7  # Ваше значення n\n",
        "\n",
        "for i in range(1, n + 1):\n",
        "    print(\"#\" * i)\n"
      ]
    },
    {
      "cell_type": "markdown",
      "metadata": {
        "id": "XOniyaun74Ed"
      },
      "source": [
        "12. (20 балів) Гра \"Нумо вгадай\".\n",
        "Розробіть просту гру, де користувач має вгадати випадкове число від 1 до 100. Для генерації випадкового числа використовуйте функцію random.randint(a, b) (тут a та b включно). Для отримання числа з консолі використовуйте функцію input(), результат якої обовʼязково явно приведіть до типу int.\n",
        "\n",
        "Підказка: використовуйте цикл while та умови if-else, щоб повідомити користувачу піказки (напр. \"Більше\", \"Менше\") поки користувач не вгадає. По завершенню виведіть кількість спроб, які знадобилися для вгадування.\n"
      ]
    },
    {
      "cell_type": "code",
      "execution_count": 14,
      "metadata": {
        "colab": {
          "base_uri": "https://localhost:8080/"
        },
        "id": "iomCeUuW73NG",
        "outputId": "c7aa1b6b-1642-4973-c424-c78af516c35a"
      },
      "outputs": [
        {
          "name": "stdout",
          "output_type": "stream",
          "text": [
            "Вгадайте число від 1 до 100\n",
            "Ваша спроба: 55\n",
            "Більше\n",
            "Ваша спроба: 60\n",
            "Більше\n",
            "Ваша спроба: 70\n",
            "Більше\n",
            "Ваша спроба: 80\n",
            "Менше\n",
            "Ваша спроба: 74\n",
            "Більше\n",
            "Ваша спроба: 76\n",
            "Більше\n",
            "Ваша спроба: 78\n",
            "Більше\n",
            "Ваша спроба: 79\n",
            "Вітаємо! Ви вгадали число 79 за 8 спроб\n"
          ]
        }
      ],
      "source": [
        "import random\n",
        "random_number = random.randint(1, 100)\n",
        "print(\"Вгадайте число від 1 до 100\")\n",
        "attempts = 0\n",
        "while True:\n",
        "    guess = int(input(\"Ваша спроба: \"))\n",
        "    attempts += 1\n",
        "    if guess < random_number:\n",
        "        print(\"Більше\")\n",
        "    elif guess > random_number:\n",
        "        print(\"Менше\")\n",
        "    else:\n",
        "        print(f\"Вітаємо! Ви вгадали число {random_number} за {attempts} спроб\")\n",
        "        break\n"
      ]
    },
    {
      "cell_type": "markdown",
      "metadata": {
        "id": "jTs-rqOptY2R"
      },
      "source": [
        "# Вітаю! Ви велика(ий) молодець, що впоралась(вся). Похваліть себе та побалуйте чимось приємним. Я Вами пишаюся."
      ]
    }
  ],
  "metadata": {
    "colab": {
      "provenance": []
    },
    "kernelspec": {
      "display_name": "Python 3",
      "name": "python3"
    },
    "language_info": {
      "name": "python"
    }
  },
  "nbformat": 4,
  "nbformat_minor": 0
}
