{
  "cells": [
    {
      "cell_type": "markdown",
      "metadata": {
        "id": "EVJ7AflwxrZi"
      },
      "source": [
        "# I. Рядки (String)."
      ]
    },
    {
      "cell_type": "markdown",
      "metadata": {
        "id": "_s5ECzz9zE61"
      },
      "source": [
        "1. Створити пустий рядок двома різними способами."
      ]
    },
    {
      "cell_type": "code",
      "execution_count": null,
      "metadata": {
        "colab": {
          "base_uri": "https://localhost:8080/"
        },
        "id": "HsDOUUMWxo6D",
        "outputId": "bfe34348-7efc-481f-c5a6-6a0f97ae8976"
      },
      "outputs": [
        {
          "name": "stdout",
          "output_type": "stream",
          "text": [
            "mmmm mmm\n"
          ]
        }
      ],
      "source": [
        "empty_string1 = ''\n",
        "empty_string2 = str()"
      ]
    },
    {
      "cell_type": "markdown",
      "metadata": {
        "id": "4Bdn9J3MzLf_"
      },
      "source": [
        "2. Створити рядок з апострофом."
      ]
    },
    {
      "cell_type": "code",
      "execution_count": 2,
      "metadata": {
        "colab": {
          "base_uri": "https://localhost:8080/"
        },
        "id": "OjyFU0iKzPc2",
        "outputId": "9751b62f-7bca-4eaf-e934-4afd6429f0c8"
      },
      "outputs": [
        {
          "name": "stdout",
          "output_type": "stream",
          "text": [
            "'\n"
          ]
        }
      ],
      "source": [
        "string_with_apostrophe = \"'\"\n",
        "print(string_with_apostrophe)\n"
      ]
    },
    {
      "cell_type": "markdown",
      "metadata": {
        "id": "qj7LjXFazbx1"
      },
      "source": [
        "3. Створити рядок з символом переходу на новий рядок та роздрукувати його в консоль."
      ]
    },
    {
      "cell_type": "code",
      "execution_count": 6,
      "metadata": {
        "colab": {
          "base_uri": "https://localhost:8080/"
        },
        "id": "K9J-tLXczmyo",
        "outputId": "c13700d2-d082-47c5-fbf4-53d8c15d3475"
      },
      "outputs": [
        {
          "name": "stdout",
          "output_type": "stream",
          "text": [
            "Цей текст\n",
            "знаходиться у новому рядку.\n"
          ]
        }
      ],
      "source": [
        "my_string = \"Цей текст\\nзнаходиться у новому рядку.\"\n",
        "print(my_string)\n"
      ]
    },
    {
      "cell_type": "markdown",
      "metadata": {
        "id": "XEYGh-BGzzfD"
      },
      "source": [
        "4. Зробити рядок з завдання №3 \"сирим\"(raw), вивести в консоль та порівняти з результатом в попередному завданні."
      ]
    },
    {
      "cell_type": "code",
      "execution_count": 7,
      "metadata": {
        "colab": {
          "base_uri": "https://localhost:8080/"
        },
        "id": "0Mb7qYqgzntd",
        "outputId": "3b7ce385-b127-4b47-d8c1-d2a7de4d04c3"
      },
      "outputs": [
        {
          "name": "stdout",
          "output_type": "stream",
          "text": [
            "Цей текст\\nзнаходиться у новому рядку.\n"
          ]
        }
      ],
      "source": [
        "my_raw_string = r\"Цей текст\\nзнаходиться у новому рядку.\"\n",
        "print(my_raw_string)\n"
      ]
    },
    {
      "cell_type": "markdown",
      "metadata": {
        "id": "xLM76Cnfz3T_"
      },
      "source": [
        "у \"сирому\" рядку символ \\n вважатиметься просто символом звичайного тексту, тоді як у звичайному рядку він буде інтерпретований як символ переходу на новий рядок.\n",
        "---\n",
        "\n"
      ]
    },
    {
      "cell_type": "markdown",
      "metadata": {
        "id": "bg_d8wM4z8dS"
      },
      "source": [
        "5. Створити змінну, що буде посилатися на Ваше прізвище латинкою. Створити форматований рядок, який буде мати вигляд \"My surname is ______\", де на місці нижніх підкреслень буде Ваше прізвище зі змінної."
      ]
    },
    {
      "cell_type": "code",
      "execution_count": null,
      "metadata": {
        "colab": {
          "base_uri": "https://localhost:8080/"
        },
        "id": "Cr847KKpz7zF",
        "outputId": "56a6aa08-2236-4efa-9aef-216f67a202ef"
      },
      "outputs": [],
      "source": [
        "surname = \"Bashuk\"\n",
        "formatted_string = f\"My surname is {surname}\"\n",
        "print(formatted_string)"
      ]
    },
    {
      "cell_type": "markdown",
      "metadata": {
        "id": "1Nc6RqvQ0hxU"
      },
      "source": [
        "6. Маючи рядок \"My dog is crazy.\" перетворити його на список [\"my\", \"dog\", \"is\", \"crazy\"]"
      ]
    },
    {
      "cell_type": "code",
      "execution_count": 9,
      "metadata": {
        "colab": {
          "base_uri": "https://localhost:8080/"
        },
        "id": "dGU4MImR063l",
        "outputId": "a80fda17-7f5c-4248-d005-6f9088628403"
      },
      "outputs": [
        {
          "name": "stdout",
          "output_type": "stream",
          "text": [
            "['my', 'dog', 'is', 'crazy.']\n"
          ]
        }
      ],
      "source": [
        "my_string = \"My dog is crazy.\"\n",
        "word_list = my_string.lower().split()\n",
        "\n",
        "print(word_list)\n"
      ]
    },
    {
      "cell_type": "markdown",
      "metadata": {
        "id": "rW_I9dt3x6cW"
      },
      "source": [
        "# II. Множини (Set)."
      ]
    },
    {
      "cell_type": "markdown",
      "metadata": {
        "id": "zNjRLHLw1Bgg"
      },
      "source": [
        "7. Створити множину без елементів. Після цого за допомогою методу додайте кілька різних елементів до множини. Чи множини є змінним типом даних?"
      ]
    },
    {
      "cell_type": "code",
      "execution_count": null,
      "metadata": {
        "id": "CB72VZWZ1A7c"
      },
      "outputs": [],
      "source": [
        "my_set = set()\n",
        "\n",
        "\n",
        "my_set.add(5)\n",
        "my_set.add('Hello')\n",
        "my_set.add(3.14)\n",
        "\n",
        "\n",
        "print(my_set)"
      ]
    },
    {
      "cell_type": "markdown",
      "metadata": {
        "id": "34vl-3oWZoej"
      },
      "source": []
    },
    {
      "cell_type": "markdown",
      "metadata": {
        "id": "tqxtcfgK4Wkx"
      },
      "source": [
        "*місце для відповіді"
      ]
    },
    {
      "cell_type": "markdown",
      "metadata": {
        "id": "gHpT0Zw_1HEF"
      },
      "source": [
        "8. Створити множину, маючи список my_list = [1, 1, 2, 67, 67, 8, 9]. Пояснити, чому \"зникли\" деякі елементи."
      ]
    },
    {
      "cell_type": "code",
      "execution_count": 10,
      "metadata": {
        "colab": {
          "base_uri": "https://localhost:8080/"
        },
        "id": "U5YnFsPp1OCU",
        "outputId": "53661f84-c02c-4989-ff6b-f97a39f1b6d1"
      },
      "outputs": [
        {
          "name": "stdout",
          "output_type": "stream",
          "text": [
            "{1, 2, 67, 8, 9}\n"
          ]
        }
      ],
      "source": [
        "my_list = [1, 1, 2, 67, 67, 8, 9]\n",
        "my_set = set(my_list)\n",
        "print(my_set)"
      ]
    },
    {
      "cell_type": "markdown",
      "metadata": {
        "id": "SRMkGizS1UwY"
      },
      "source": [
        "9. Створіть дві множини. Продемонстуйте над ними операції: обʼєднання, різниці, пересічі та симетричної різниці. Використовуйте методи, що не змінюють множини, а створюють нові."
      ]
    },
    {
      "cell_type": "code",
      "execution_count": null,
      "metadata": {
        "id": "pj5ta1CS2LAa"
      },
      "outputs": [],
      "source": [
        "set_A = {1, 2, 3, 4, 5}\n",
        "set_B = {3, 4, 5, 6, 7}\n",
        "\n",
        "\n",
        "union_set = set_A.union(set_B)\n",
        "\n",
        "\n",
        "difference_set = set_A.difference(set_B)\n",
        "\n",
        "\n",
        "intersection_set = set_A.intersection(set_B)\n",
        "\n",
        "\n",
        "symmetric_difference_set = set_A.symmetric_difference(set_B)\n",
        "\n",
        "\n",
        "print(\"Об'єднання множин:\", union_set)\n",
        "print(\"Різниця множин A та B:\", difference_set)\n",
        "print(\"Перетин множин A та B:\", intersection_set)\n",
        "print(\"Симетрична різниця множин A та B:\", symmetric_difference_set)"
      ]
    },
    {
      "cell_type": "markdown",
      "metadata": {
        "id": "ECo4rGAW2e4S"
      },
      "source": [
        "10. Створіть множину з пʼяти елементів. За допомогою спеціального методу, вилучіть три елементи один за одним з множини. Чи може гарантуватися порядок елементів у множинах?"
      ]
    },
    {
      "cell_type": "code",
      "execution_count": 12,
      "metadata": {
        "colab": {
          "base_uri": "https://localhost:8080/"
        },
        "id": "tCoJigA-4Ryd",
        "outputId": "b69cb799-a2ee-4811-e0ff-ccd7c5e71d0e"
      },
      "outputs": [
        {
          "name": "stdout",
          "output_type": "stream",
          "text": [
            "{4, 5}\n"
          ]
        }
      ],
      "source": [
        "my_set = {1, 2, 3, 4, 5}\n",
        "my_set.pop()\n",
        "my_set.pop()\n",
        "my_set.pop()\n",
        "print(my_set)"
      ]
    },
    {
      "cell_type": "markdown",
      "metadata": {
        "id": "t7f5oKmP2qum"
      },
      "source": [
        "*місце для відповіді"
      ]
    },
    {
      "cell_type": "markdown",
      "metadata": {
        "id": "kWc8gkzTx7Ea"
      },
      "source": [
        "# III. Словники (Dictionary)."
      ]
    },
    {
      "cell_type": "markdown",
      "metadata": {
        "id": "FHIRdwck2uji"
      },
      "source": [
        "11. Створіть пустий словник двома способами."
      ]
    },
    {
      "cell_type": "code",
      "execution_count": null,
      "metadata": {
        "id": "sF2WCzwJ2yDq"
      },
      "outputs": [],
      "source": [
        "empty_dict1 = {}\n",
        "empty_dict2 = dict()"
      ]
    },
    {
      "cell_type": "markdown",
      "metadata": {
        "id": "i5FLwj-B2ybQ"
      },
      "source": [
        "12. До одного зі словників вище додайте чотири пари елементів такі, щоб їхні ключі були різних типів."
      ]
    },
    {
      "cell_type": "code",
      "execution_count": 13,
      "metadata": {
        "colab": {
          "base_uri": "https://localhost:8080/"
        },
        "id": "lqunD0EZ2_Vg",
        "outputId": "6a8f71a9-93d3-4a45-df2e-821c23e6b94b"
      },
      "outputs": [
        {
          "name": "stdout",
          "output_type": "stream",
          "text": [
            "{True: 'Boolean', 10.5: 'Float', (1, 2): 'Tuple', None: 'NoneType'}\n"
          ]
        }
      ],
      "source": [
        "my_dict = {}\n",
        "\n",
        "\n",
        "my_dict[True] = 'Boolean'\n",
        "my_dict[10.5] = 'Float'\n",
        "my_dict[(1, 2)] = 'Tuple'\n",
        "my_dict[None] = 'NoneType'\n",
        "\n",
        "\n",
        "print(my_dict)"
      ]
    },
    {
      "cell_type": "markdown",
      "metadata": {
        "id": "XOD2Aaj13Bqx"
      },
      "source": [
        "*чи може список бути ключем? а значенням? чому?"
      ]
    },
    {
      "cell_type": "markdown",
      "metadata": {
        "id": "9Tjhmuf73KE6"
      },
      "source": [
        "13. Використовуючи той самий словник, отримайте по ключу будь-яке значення з наявних. Тепер видаліть цю пару ключ-значення. Спробуйте знову отримати значення по цьому ж ключу. Використовуючи спеціальний метод, виправте помилку."
      ]
    },
    {
      "cell_type": "code",
      "execution_count": 14,
      "metadata": {
        "colab": {
          "base_uri": "https://localhost:8080/"
        },
        "id": "cNMenuGQ3JMa",
        "outputId": "a6683b72-9161-4fae-e174-7e91e3731177"
      },
      "outputs": [
        {
          "name": "stdout",
          "output_type": "stream",
          "text": [
            "Значення за ключем True: Boolean\n",
            "Пара ключ-значення була видалена\n",
            "Значення за ключем True після виправлення: Default Value\n"
          ]
        }
      ],
      "source": [
        "\n",
        "my_dict = {\n",
        "    True: 'Boolean',\n",
        "    10.5: 'Float',\n",
        "    (1, 2): 'Tuple',\n",
        "    None: 'NoneType'\n",
        "}\n",
        "\n",
        "value = my_dict[True]\n",
        "print(\"Значення за ключем True:\", value)\n",
        "\n",
        "del my_dict[True]\n",
        "\n",
        "try:\n",
        "    value = my_dict[True]\n",
        "    print(\"Значення за ключем True:\", value)\n",
        "except KeyError:\n",
        "    print(\"Пара ключ-значення була видалена\")\n",
        "\n",
        "\n",
        "value = my_dict.setdefault(True, 'Default Value')\n",
        "print(\"Значення за ключем True після виправлення:\", value)"
      ]
    },
    {
      "cell_type": "markdown",
      "metadata": {
        "id": "SLtQabwUx7Xc"
      },
      "source": [
        "# IV. Оператори порівняння та логічні оператори. Умови."
      ]
    },
    {
      "cell_type": "markdown",
      "metadata": {
        "id": "SrehzC-n3-ln"
      },
      "source": [
        "14. Створіть цілочисленну змінну зі своїм щасливим або улюбленим числом. Напишіть код, який би автоматизовував наступну задачу.\n",
        "\n",
        "Якщо число парне, помножте його на 2 та виведіть результат на екран.\n",
        "\n",
        "Але якщо число непарне, помножте його на 3 та додайте 1 і виведіть на екран.\n"
      ]
    },
    {
      "cell_type": "code",
      "execution_count": null,
      "metadata": {
        "id": "g0cchKGl3-Gq"
      },
      "outputs": [],
      "source": [
        "# Моє улюблене число\n",
        "my_number = 7  # Ваше улюблене або щасливе число\n",
        "\n",
        "# Перевірка числа на парність або непарність\n",
        "if my_number % 2 == 0:  # Якщо число парне\n",
        "    result = my_number * 2\n",
        "    print(\"Число є парним. Результат множення на 2:\", result)\n",
        "else:  # Якщо число непарне\n",
        "    result = my_number * 3 + 1\n",
        "    print(\"Число є непарним. Результат множення на 3 та додавання 1:\", result)\n"
      ]
    },
    {
      "cell_type": "markdown",
      "metadata": {
        "id": "PRXLVdU26E5Z"
      },
      "source": [
        "15. Створіть рядок зі своїм імʼям латинкою. Напишіть код, який би автоматизовував наступну задачу.\n",
        "\n",
        "Якщо в імені є літера \"а\"\n",
        " або \"i\", Виведіть на екран повідомлення \"A or I is in the name\".\n",
        "\n",
        "\n",
        "\n",
        "Якщо в імені є літери \"o\" та \"n\", Виведіть на екран повідомлення \"O and N is in the name\".\n",
        "\n",
        "Також якщо в імені немає літери \"о\", але є \"n\", Виведіть на екран повідомлення \"Only N is in the name\".\n",
        "\n",
        "В решті випадків виведіть на екран повідомлення \"There is no N in the name, but there might be O\".\n",
        "\n",
        "Зверніть увагу, що, наприклад, для імені \"Antonina\" буде виведено два повідомлення."
      ]
    },
    {
      "cell_type": "code",
      "execution_count": 16,
      "metadata": {
        "colab": {
          "base_uri": "https://localhost:8080/"
        },
        "id": "bQlf4ZUh6Pdz",
        "outputId": "ceaafa91-8f33-4128-e1c3-0bd555fd46fd"
      },
      "outputs": [
        {
          "name": "stdout",
          "output_type": "stream",
          "text": [
            "A or I is in the name\n",
            "There is no N in the name, but there might be O\n"
          ]
        }
      ],
      "source": [
        "# Рядок з ім'ям\n",
        "name = \"Serhii\"\n",
        "\n",
        "# Перевірка умов і виведення повідомлень\n",
        "if 'a' in name.lower() or 'i' in name.lower():\n",
        "    print(\"A or I is in the name\")\n",
        "\n",
        "if 'o' in name.lower() and 'n' in name.lower():\n",
        "    print(\"O and N is in the name\")\n",
        "\n",
        "if 'o' not in name.lower() and 'n' in name.lower():\n",
        "    print(\"Only N is in the name\")\n",
        "\n",
        "if 'n' not in name.lower():\n",
        "    print(\"There is no N in the name, but there might be O\")"
      ]
    },
    {
      "cell_type": "markdown",
      "metadata": {
        "id": "xOZP0hkx6cCr"
      },
      "source": [
        "# Вітаю! Ви велика(ий) молодець, що впоралась(вся). Похваліть себе та побалуйте чимось приємним. Я Вами пишаюся."
      ]
    }
  ],
  "metadata": {
    "colab": {
      "provenance": []
    },
    "kernelspec": {
      "display_name": "Python 3",
      "name": "python3"
    },
    "language_info": {
      "name": "python"
    }
  },
  "nbformat": 4,
  "nbformat_minor": 0
}
